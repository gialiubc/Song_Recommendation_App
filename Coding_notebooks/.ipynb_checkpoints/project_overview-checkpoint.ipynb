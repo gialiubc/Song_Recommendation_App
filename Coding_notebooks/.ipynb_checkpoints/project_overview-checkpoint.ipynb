{
 "cells": [
  {
   "cell_type": "markdown",
   "id": "699aa621-72c2-4426-a2a0-78c492636389",
   "metadata": {},
   "source": [
    "# 1. Weaviate Project: "
   ]
  },
  {
   "cell_type": "markdown",
   "id": "06298526-b87e-4c33-bf2e-c94a4cb41c70",
   "metadata": {
    "jp-MarkdownHeadingCollapsed": true
   },
   "source": [
    "### Track 1 requirements: Create a workflow with Weaviate and our technology partners\n",
    "- You can reuse and modify any other GitHub project, so it's not about you doing everything, it's about you putting the right things together! See ‣ for some inspiration, but feel free to come up with anything else you find as you create this project.\n",
    "- It's about Weaviate, but you can choose any framework you want as an add-on.\n",
    "- Set up a workflow with Weaviate and use one or more of our Readers & Generators modules: https://weaviate.io/developers/weaviate/modules/reader-generator-modules\n",
    "- Front end for presentation: Build a nice-looking front end. It could use Tailwind CSS and Next.js or any other front-end framework. Tip: You can use ChatGPT to create this.\n",
    "- Use whatever dataset you want, see ‣.\n",
    "- It's up to you what this application does and what the front end looks like."
   ]
  },
  {
   "cell_type": "markdown",
   "id": "073c5495-d9a7-4ba4-add8-50b2d313d4fc",
   "metadata": {
    "jp-MarkdownHeadingCollapsed": true
   },
   "source": [
    "### Workflow: Music Recommendations\n",
    "- Get the track features from my GitHub project and import them into vector db. Since they are already vectorized we use our embedding.\n",
    "- RAG steps: 1)Similarity search 2)Retrieve 20 songs 3)Make recommendations"
   ]
  },
  {
   "cell_type": "markdown",
   "id": "59d3ef50-d114-4427-9e64-899eef995b2e",
   "metadata": {},
   "source": [
    "## Set up Weaviate"
   ]
  },
  {
   "cell_type": "code",
   "execution_count": 47,
   "id": "e9d6e495-a800-421f-95fe-688c09bb3e4a",
   "metadata": {
    "scrolled": true
   },
   "outputs": [],
   "source": [
    "# #Install Weaviate to environment\n",
    "# !pip install \"weaviate-client==3.*\""
   ]
  },
  {
   "cell_type": "code",
   "execution_count": 48,
   "id": "e10e6537-80f1-4388-ba90-c28eb15c535e",
   "metadata": {},
   "outputs": [],
   "source": [
    "# #Install OpenAI to environment\n",
    "# !pip install openai"
   ]
  },
  {
   "cell_type": "code",
   "execution_count": 65,
   "id": "61ae96d9-5834-4668-817c-27bc3e963638",
   "metadata": {},
   "outputs": [
    {
     "name": "stdout",
     "output_type": "stream",
     "text": [
      "Requirement already satisfied: weaviate-client in /Users/jiajialiu/anaconda3/lib/python3.11/site-packages (3.26.2)\n",
      "Collecting weaviate-client\n",
      "  Downloading weaviate_client-4.6.4-py3-none-any.whl.metadata (3.3 kB)\n",
      "Requirement already satisfied: requests<3.0.0,>=2.30.0 in /Users/jiajialiu/anaconda3/lib/python3.11/site-packages (from weaviate-client) (2.31.0)\n",
      "Requirement already satisfied: httpx<=0.27.0,>=0.25.0 in /Users/jiajialiu/anaconda3/lib/python3.11/site-packages (from weaviate-client) (0.27.0)\n",
      "Collecting validators==0.28.3 (from weaviate-client)\n",
      "  Downloading validators-0.28.3-py3-none-any.whl.metadata (3.6 kB)\n",
      "Requirement already satisfied: authlib<2.0.0,>=1.2.1 in /Users/jiajialiu/anaconda3/lib/python3.11/site-packages (from weaviate-client) (1.3.0)\n",
      "Requirement already satisfied: pydantic<3.0.0,>=2.5.0 in /Users/jiajialiu/anaconda3/lib/python3.11/site-packages (from weaviate-client) (2.6.4)\n",
      "Requirement already satisfied: grpcio<2.0.0,>=1.57.0 in /Users/jiajialiu/anaconda3/lib/python3.11/site-packages (from weaviate-client) (1.64.0)\n",
      "Requirement already satisfied: grpcio-tools<2.0.0,>=1.57.0 in /Users/jiajialiu/anaconda3/lib/python3.11/site-packages (from weaviate-client) (1.64.0)\n",
      "Requirement already satisfied: grpcio-health-checking<2.0.0,>=1.57.0 in /Users/jiajialiu/anaconda3/lib/python3.11/site-packages (from weaviate-client) (1.64.0)\n",
      "Requirement already satisfied: cryptography in /Users/jiajialiu/anaconda3/lib/python3.11/site-packages (from authlib<2.0.0,>=1.2.1->weaviate-client) (41.0.3)\n",
      "Requirement already satisfied: protobuf<6.0dev,>=5.26.1 in /Users/jiajialiu/anaconda3/lib/python3.11/site-packages (from grpcio-health-checking<2.0.0,>=1.57.0->weaviate-client) (5.27.0)\n",
      "Requirement already satisfied: setuptools in /Users/jiajialiu/anaconda3/lib/python3.11/site-packages (from grpcio-tools<2.0.0,>=1.57.0->weaviate-client) (69.0.3)\n",
      "Requirement already satisfied: anyio in /Users/jiajialiu/anaconda3/lib/python3.11/site-packages (from httpx<=0.27.0,>=0.25.0->weaviate-client) (4.2.0)\n",
      "Requirement already satisfied: certifi in /Users/jiajialiu/anaconda3/lib/python3.11/site-packages (from httpx<=0.27.0,>=0.25.0->weaviate-client) (2024.2.2)\n",
      "Requirement already satisfied: httpcore==1.* in /Users/jiajialiu/anaconda3/lib/python3.11/site-packages (from httpx<=0.27.0,>=0.25.0->weaviate-client) (1.0.4)\n",
      "Requirement already satisfied: idna in /Users/jiajialiu/anaconda3/lib/python3.11/site-packages (from httpx<=0.27.0,>=0.25.0->weaviate-client) (3.4)\n",
      "Requirement already satisfied: sniffio in /Users/jiajialiu/anaconda3/lib/python3.11/site-packages (from httpx<=0.27.0,>=0.25.0->weaviate-client) (1.3.0)\n",
      "Requirement already satisfied: h11<0.15,>=0.13 in /Users/jiajialiu/anaconda3/lib/python3.11/site-packages (from httpcore==1.*->httpx<=0.27.0,>=0.25.0->weaviate-client) (0.14.0)\n",
      "Requirement already satisfied: annotated-types>=0.4.0 in /Users/jiajialiu/anaconda3/lib/python3.11/site-packages (from pydantic<3.0.0,>=2.5.0->weaviate-client) (0.6.0)\n",
      "Requirement already satisfied: pydantic-core==2.16.3 in /Users/jiajialiu/anaconda3/lib/python3.11/site-packages (from pydantic<3.0.0,>=2.5.0->weaviate-client) (2.16.3)\n",
      "Requirement already satisfied: typing-extensions>=4.6.1 in /Users/jiajialiu/anaconda3/lib/python3.11/site-packages (from pydantic<3.0.0,>=2.5.0->weaviate-client) (4.9.0)\n",
      "Requirement already satisfied: charset-normalizer<4,>=2 in /Users/jiajialiu/anaconda3/lib/python3.11/site-packages (from requests<3.0.0,>=2.30.0->weaviate-client) (2.0.4)\n",
      "Requirement already satisfied: urllib3<3,>=1.21.1 in /Users/jiajialiu/anaconda3/lib/python3.11/site-packages (from requests<3.0.0,>=2.30.0->weaviate-client) (2.0.7)\n",
      "Requirement already satisfied: cffi>=1.12 in /Users/jiajialiu/anaconda3/lib/python3.11/site-packages (from cryptography->authlib<2.0.0,>=1.2.1->weaviate-client) (1.16.0)\n",
      "Requirement already satisfied: pycparser in /Users/jiajialiu/anaconda3/lib/python3.11/site-packages (from cffi>=1.12->cryptography->authlib<2.0.0,>=1.2.1->weaviate-client) (2.21)\n",
      "Downloading weaviate_client-4.6.4-py3-none-any.whl (325 kB)\n",
      "\u001b[2K   \u001b[90m━━━━━━━━━━━━━━━━━━━━━━━━━━━━━━━━━━━━━━━━\u001b[0m \u001b[32m325.2/325.2 kB\u001b[0m \u001b[31m4.3 MB/s\u001b[0m eta \u001b[36m0:00:00\u001b[0m00:01\u001b[0m00:01\u001b[0m\n",
      "\u001b[?25hDownloading validators-0.28.3-py3-none-any.whl (40 kB)\n",
      "\u001b[2K   \u001b[90m━━━━━━━━━━━━━━━━━━━━━━━━━━━━━━━━━━━━━━━━\u001b[0m \u001b[32m40.0/40.0 kB\u001b[0m \u001b[31m8.0 MB/s\u001b[0m eta \u001b[36m0:00:00\u001b[0m\n",
      "\u001b[?25hInstalling collected packages: validators, weaviate-client\n",
      "  Attempting uninstall: validators\n",
      "    Found existing installation: validators 0.28.1\n",
      "    Uninstalling validators-0.28.1:\n",
      "      Successfully uninstalled validators-0.28.1\n",
      "  Attempting uninstall: weaviate-client\n",
      "    Found existing installation: weaviate-client 3.26.2\n",
      "    Uninstalling weaviate-client-3.26.2:\n",
      "      Successfully uninstalled weaviate-client-3.26.2\n",
      "Successfully installed validators-0.28.3 weaviate-client-4.6.4\n"
     ]
    }
   ],
   "source": [
    "!pip install -U weaviate-client"
   ]
  },
  {
   "cell_type": "code",
   "execution_count": 72,
   "id": "cefc5951-3f8a-4267-83fa-341f1c08077d",
   "metadata": {},
   "outputs": [],
   "source": [
    "import weaviate\n",
    "import pandas as pd\n",
    "import requests\n",
    "from datetime import datetime, timezone\n",
    "import json\n",
    "import weaviate.classes.config as wc\n",
    "from weaviate.util import generate_uuid5\n",
    "from tqdm import tqdm\n",
    "import os"
   ]
  },
  {
   "cell_type": "code",
   "execution_count": 73,
   "id": "34069440-23b1-489e-800e-cee7ae3536bf",
   "metadata": {},
   "outputs": [],
   "source": [
    "WCS_URL = \"https://sptfy-tracks-qcdrtajx.weaviate.network\"\n",
    "WCS_API_KEY = \"qx2cs9IcFnjD2w3kpClAoDsqvSeN1QTZVBhf\"\n",
    "OPENAI_APIKEY = \"sk-proj-WyzkGgSDGwA2saIXcZgfT3BlbkFJ0FEqwvFNs0NFY5FNrtdn\""
   ]
  },
  {
   "cell_type": "code",
   "execution_count": 63,
   "id": "ccaaaba9-e6e0-45c8-8873-8b25266e6282",
   "metadata": {},
   "outputs": [
    {
     "name": "stderr",
     "output_type": "stream",
     "text": [
      "/var/folders/jn/000q98496_9_y7jg5hj5hvw40000gn/T/ipykernel_91395/2703196428.py:8: ResourceWarning: unclosed <ssl.SSLSocket fd=80, family=2, type=1, proto=0, laddr=('100.110.230.21', 53257), raddr=('34.149.137.116', 443)>\n",
      "  client = weaviate.connect_to_wcs(\n",
      "ResourceWarning: Enable tracemalloc to get the object allocation traceback\n"
     ]
    }
   ],
   "source": [
    "import weaviate\n",
    "import os\n",
    "\n",
    "headers = {\n",
    "    \"X-OpenAI-Api-Key\": APIKEY\n",
    "}  # Replace with your OpenAI API key\n",
    "\n",
    "client = weaviate.connect_to_wcs(\n",
    "    cluster_url=WCS_URL,  # Replace with your WCS URL\n",
    "    auth_credentials=weaviate.auth.AuthApiKey(\n",
    "        WCS_API_KEY),  # Replace with your WCS key\n",
    "    headers=headers,\n",
    ")"
   ]
  },
  {
   "cell_type": "code",
   "execution_count": 82,
   "id": "bdb9b07b-3f40-4898-8cf1-53954ba7af61",
   "metadata": {},
   "outputs": [
    {
     "ename": "KeyError",
     "evalue": "'sk-proj-WyzkGgSDGwA2saIXcZgfT3BlbkFJ0FEqwvFNs0NFY5FNrtdn'",
     "output_type": "error",
     "traceback": [
      "\u001b[0;31m---------------------------------------------------------------------------\u001b[0m",
      "\u001b[0;31mKeyError\u001b[0m                                  Traceback (most recent call last)",
      "Cell \u001b[0;32mIn[82], line 11\u001b[0m\n\u001b[1;32m      4\u001b[0m \u001b[38;5;28;01mimport\u001b[39;00m \u001b[38;5;21;01mrequests\u001b[39;00m\n\u001b[1;32m      5\u001b[0m \u001b[38;5;28;01mimport\u001b[39;00m \u001b[38;5;21;01mjson\u001b[39;00m\n\u001b[1;32m      7\u001b[0m client \u001b[38;5;241m=\u001b[39m weaviate\u001b[38;5;241m.\u001b[39mconnect_to_wcs(\n\u001b[1;32m      8\u001b[0m     cluster_url\u001b[38;5;241m=\u001b[39mos\u001b[38;5;241m.\u001b[39mgetenv(WCS_URL),\n\u001b[1;32m      9\u001b[0m     auth_credentials\u001b[38;5;241m=\u001b[39mweaviate\u001b[38;5;241m.\u001b[39mauth\u001b[38;5;241m.\u001b[39mAuthApiKey(os\u001b[38;5;241m.\u001b[39mgetenv(WCS_API_KEY)),\n\u001b[1;32m     10\u001b[0m     headers\u001b[38;5;241m=\u001b[39m{\n\u001b[0;32m---> 11\u001b[0m         \u001b[38;5;124m\"\u001b[39m\u001b[38;5;124mX-OpenAI-Api-Key\u001b[39m\u001b[38;5;124m\"\u001b[39m: os\u001b[38;5;241m.\u001b[39menviron[OPENAI_APIKEY]  \u001b[38;5;66;03m# Replace with your inference API key\u001b[39;00m\n\u001b[1;32m     12\u001b[0m     }\n\u001b[1;32m     13\u001b[0m )\n\u001b[1;32m     15\u001b[0m \u001b[38;5;28;01mtry\u001b[39;00m:\n\u001b[1;32m     16\u001b[0m     \u001b[38;5;28;01mpass\u001b[39;00m \u001b[38;5;66;03m# Replace with your code. Close client gracefully in the finally block.\u001b[39;00m\n",
      "File \u001b[0;32m<frozen os>:679\u001b[0m, in \u001b[0;36m__getitem__\u001b[0;34m(self, key)\u001b[0m\n",
      "\u001b[0;31mKeyError\u001b[0m: 'sk-proj-WyzkGgSDGwA2saIXcZgfT3BlbkFJ0FEqwvFNs0NFY5FNrtdn'"
     ]
    }
   ],
   "source": [
    "import weaviate\n",
    "import weaviate.classes as wvc\n",
    "import os\n",
    "import requests\n",
    "import json\n",
    "\n",
    "client = weaviate.connect_to_wcs(\n",
    "    cluster_url=os.getenv(WCS_URL),\n",
    "    auth_credentials=weaviate.auth.AuthApiKey(os.getenv(WCS_API_KEY)),\n",
    "    headers={\n",
    "        \"X-OpenAI-Api-Key\": os.environ[OPENAI_APIKEY]  # Replace with your inference API key\n",
    "    }\n",
    ")\n",
    "\n",
    "try:\n",
    "    pass # Replace with your code. Close client gracefully in the finally block.\n",
    "\n",
    "finally:\n",
    "    client.close()  # Close client gracefully"
   ]
  },
  {
   "cell_type": "code",
   "execution_count": 78,
   "id": "427c37eb-08d1-4564-98ea-d0dd7aaeecb2",
   "metadata": {},
   "outputs": [
    {
     "name": "stdout",
     "output_type": "stream",
     "text": [
      "True\n"
     ]
    }
   ],
   "source": [
    "# Python client v3 co \n",
    "client = weaviate.Client(\n",
    "    url=\"https://sptfy-tracks-qcdrtajx.weaviate.network\",  # Replace with your Weaviate endpoint\n",
    "     auth_client_secret=weaviate.auth.AuthApiKey(api_key=\"qx2cs9IcFnjD2w3kpClAoDsqvSeN1QTZVBhf\"),  # Replace with your Weaviate instance API key\n",
    "    additional_headers={\n",
    "        'X-OpenAI-Api-key': os.getenv(\"sk-proj-WyzkGgSDGwA2saIXcZgfT3BlbkFJ0FEqwvFNs0NFY5FNrtdn\")  # Replace with your third party API key and identifying header\n",
    "    }\n",
    ")\n",
    "\n",
    "print(client.is_ready())"
   ]
  },
  {
   "cell_type": "code",
   "execution_count": 81,
   "id": "57da8ffd-57c5-4851-a07b-7bbed9fcb6f8",
   "metadata": {},
   "outputs": [
    {
     "ename": "AttributeError",
     "evalue": "'Client' object has no attribute 'collections'",
     "output_type": "error",
     "traceback": [
      "\u001b[0;31m---------------------------------------------------------------------------\u001b[0m",
      "\u001b[0;31mAttributeError\u001b[0m                            Traceback (most recent call last)",
      "Cell \u001b[0;32mIn[81], line 1\u001b[0m\n\u001b[0;32m----> 1\u001b[0m tracks \u001b[38;5;241m=\u001b[39m client\u001b[38;5;241m.\u001b[39mcollections\u001b[38;5;241m.\u001b[39mcreate(\n\u001b[1;32m      2\u001b[0m     name\u001b[38;5;241m=\u001b[39m\u001b[38;5;124m\"\u001b[39m\u001b[38;5;124mTracks\u001b[39m\u001b[38;5;124m\"\u001b[39m,\n\u001b[1;32m      3\u001b[0m         vectorizer_config\u001b[38;5;241m=\u001b[39mwvc\u001b[38;5;241m.\u001b[39mconfig\u001b[38;5;241m.\u001b[39mConfigure\u001b[38;5;241m.\u001b[39mVectorizer\u001b[38;5;241m.\u001b[39mtext2vec_openai(),  \u001b[38;5;66;03m# If set to \"none\" you must always provide vectors yourself. Could be any other \"text2vec-*\" also.\u001b[39;00m\n\u001b[1;32m      4\u001b[0m         generative_config\u001b[38;5;241m=\u001b[39mwvc\u001b[38;5;241m.\u001b[39mconfig\u001b[38;5;241m.\u001b[39mConfigure\u001b[38;5;241m.\u001b[39mGenerative\u001b[38;5;241m.\u001b[39mopenai()  \u001b[38;5;66;03m# Ensure the `generative-openai` module is used for generative queries\u001b[39;00m\n\u001b[1;32m      5\u001b[0m     )\n",
      "\u001b[0;31mAttributeError\u001b[0m: 'Client' object has no attribute 'collections'"
     ]
    }
   ],
   "source": [
    "tracks = client.collections.create(\n",
    "    name=\"Tracks\",\n",
    "        vectorizer_config=wvc.config.Configure.Vectorizer.text2vec_openai(),  # If set to \"none\" you must always provide vectors yourself. Could be any other \"text2vec-*\" also.\n",
    "        generative_config=wvc.config.Configure.Generative.openai()  # Ensure the `generative-openai` module is used for generative queries\n",
    "    )"
   ]
  },
  {
   "cell_type": "code",
   "execution_count": 80,
   "id": "99740a07-9dde-4486-89cf-52a2c6aa2514",
   "metadata": {},
   "outputs": [
    {
     "ename": "AttributeError",
     "evalue": "'Client' object has no attribute 'collections'",
     "output_type": "error",
     "traceback": [
      "\u001b[0;31m---------------------------------------------------------------------------\u001b[0m",
      "\u001b[0;31mAttributeError\u001b[0m                            Traceback (most recent call last)",
      "Cell \u001b[0;32mIn[80], line 6\u001b[0m\n\u001b[1;32m      1\u001b[0m \u001b[38;5;66;03m# Instantiate your client (not shown). e.g.:\u001b[39;00m\n\u001b[1;32m      2\u001b[0m \u001b[38;5;66;03m# client = weaviate.connect_to_wcs(..., headers=headers) or\u001b[39;00m\n\u001b[1;32m      3\u001b[0m \u001b[38;5;66;03m# client = weaviate.connect_to_local(..., headers=headers)\u001b[39;00m\n\u001b[1;32m      4\u001b[0m \n\u001b[1;32m      5\u001b[0m \u001b[38;5;66;03m# delete class \"Article\" - THIS WILL DELETE ALL DATA IN THIS CLASS\u001b[39;00m\n\u001b[0;32m----> 6\u001b[0m client\u001b[38;5;241m.\u001b[39mcollections\u001b[38;5;241m.\u001b[39mdelete(\u001b[38;5;124m\"\u001b[39m\u001b[38;5;124mTracks\u001b[39m\u001b[38;5;124m\"\u001b[39m)  \u001b[38;5;66;03m# Replace with your class name\u001b[39;00m\n\u001b[1;32m      8\u001b[0m client\u001b[38;5;241m.\u001b[39mcollections\u001b[38;5;241m.\u001b[39mcreate(\n\u001b[1;32m      9\u001b[0m     name\u001b[38;5;241m=\u001b[39m\u001b[38;5;124m\"\u001b[39m\u001b[38;5;124mTracks\u001b[39m\u001b[38;5;124m\"\u001b[39m,\n\u001b[1;32m     10\u001b[0m     properties\u001b[38;5;241m=\u001b[39m[\n\u001b[0;32m   (...)\u001b[0m\n\u001b[1;32m     53\u001b[0m     generative_config\u001b[38;5;241m=\u001b[39mwc\u001b[38;5;241m.\u001b[39mConfigure\u001b[38;5;241m.\u001b[39mGenerative\u001b[38;5;241m.\u001b[39mopenai()\n\u001b[1;32m     54\u001b[0m )\n\u001b[1;32m     56\u001b[0m client\u001b[38;5;241m.\u001b[39mclose()\n",
      "\u001b[0;31mAttributeError\u001b[0m: 'Client' object has no attribute 'collections'"
     ]
    }
   ],
   "source": [
    "# Instantiate your client (not shown). e.g.:\n",
    "# client = weaviate.connect_to_wcs(..., headers=headers) or\n",
    "# client = weaviate.connect_to_local(..., headers=headers)\n",
    "\n",
    "# delete class \"Article\" - THIS WILL DELETE ALL DATA IN THIS CLASS\n",
    "client.collections.delete(\"Tracks\")  # Replace with your class name\n",
    "\n",
    "client.collections.create(\n",
    "    name=\"Tracks\",\n",
    "    properties=[\n",
    "        wc.Property(name=\"track_uri\", data_type=wc.DataType.TEXT),\n",
    "        wc.Property(name=\"danceability\", data_type=wc.DataType.NUMBER),\n",
    "        wc.Property(name=\"energy\", data_type=wc.DataType.NUMBER),\n",
    "        wc.Property(name=\"key\", data_type=wc.DataType.INT),\n",
    "        wc.Property(name=\"loudness\", data_type=wc.DataType.NUMBER),\n",
    "        wc.Property(name=\"mode\", data_type=wc.DataType.INT),\n",
    "        wc.Property(name=\"speechiness\", data_type=wc.DataType.NUMBER),\n",
    "        wc.Property(name=\"acousticness\", data_type=wc.DataType.NUMBER),\n",
    "        wc.Property(name=\"instrumentalness\", data_type=wc.DataType.NUMBER),\n",
    "        wc.Property(name=\"liveness\", data_type=wc.DataType.NUMBER),\n",
    "        wc.Property(name=\"valence\", data_type=wc.DataType.NUMBER),\n",
    "        wc.Property(name=\"tempo\", data_type=wc.DataType.NUMBER),\n",
    "        wc.Property(name=\"duration_ms\", data_type=wc.DataType.NUMBER),\n",
    "        wc.Property(name=\"time_signature\", data_type=wc.DataType.NUMBER),\n",
    "        wc.Property(name=\"key_none\", data_type=wc.DataType.INT),\n",
    "        wc.Property(name=\"key_0\", data_type=wc.DataType.INT),\n",
    "        wc.Property(name=\"key_1\", data_type=wc.DataType.INT),\n",
    "        wc.Property(name=\"key_2\", data_type=wc.DataType.INT),\n",
    "        wc.Property(name=\"key_3\", data_type=wc.DataType.INT),\n",
    "        wc.Property(name=\"key_4\", data_type=wc.DataType.INT),\n",
    "        wc.Property(name=\"key_5\", data_type=wc.DataType.INT),\n",
    "        wc.Property(name=\"key_6\", data_type=wc.DataType.INT),\n",
    "        wc.Property(name=\"key_7\", data_type=wc.DataType.INT),\n",
    "        wc.Property(name=\"key_8\", data_type=wc.DataType.INT),\n",
    "        wc.Property(name=\"key_9\", data_type=wc.DataType.INT),\n",
    "        wc.Property(name=\"key_10\", data_type=wc.DataType.INT),\n",
    "        wc.Property(name=\"key_11\", data_type=wc.DataType.INT),\n",
    "        wc.Property(name=\"mode_minor\", data_type=wc.DataType.INT),\n",
    "        wc.Property(name=\"mode_major\", data_type=wc.DataType.INT),\n",
    "        wc.Property(name=\"time_signature_0\", data_type=wc.DataType.INT),\n",
    "        wc.Property(name=\"time_signature_1\", data_type=wc.DataType.INT),\n",
    "        wc.Property(name=\"time_signature_2\", data_type=wc.DataType.INT),\n",
    "        wc.Property(name=\"time_signature_3\", data_type=wc.DataType.INT),\n",
    "        wc.Property(name=\"time_signature_4\", data_type=wc.DataType.INT),\n",
    "        wc.Property(name=\"time_signature_5\", data_type=wc.DataType.INT),\n",
    "        wc.Property(name=\"time_signature_6\", data_type=wc.DataType.INT),\n",
    "        wc.Property(name=\"time_signature_7\", data_type=wc.DataType.INT),\n",
    "        \n",
    "    ],\n",
    "    # Define the vectorizer module (none, as we will add our own vectors)\n",
    "    vectorizer_config=wc.Configure.Vectorizer.none(),\n",
    "    # Define the generative module\n",
    "    generative_config=wc.Configure.Generative.openai()\n",
    ")\n",
    "\n",
    "client.close()"
   ]
  },
  {
   "cell_type": "markdown",
   "id": "5e0f8edc-3ec2-4403-8a18-83ca7dbebe7c",
   "metadata": {},
   "source": [
    "## Import Data"
   ]
  },
  {
   "cell_type": "code",
   "execution_count": null,
   "id": "33940f0c-16dd-4ad6-9225-ad792b8feabc",
   "metadata": {},
   "outputs": [],
   "source": [
    "df = "
   ]
  },
  {
   "cell_type": "code",
   "execution_count": null,
   "id": "1ab064d3-3936-45ac-83d7-3005760bbd6f",
   "metadata": {},
   "outputs": [],
   "source": []
  },
  {
   "cell_type": "code",
   "execution_count": null,
   "id": "592f980d-76e9-454f-8f5a-8d34c42479a5",
   "metadata": {},
   "outputs": [],
   "source": []
  },
  {
   "cell_type": "markdown",
   "id": "054ffb51-29c1-48c9-824a-7fc71cbe9ba3",
   "metadata": {},
   "source": [
    "## Data Reading"
   ]
  },
  {
   "cell_type": "code",
   "execution_count": null,
   "id": "2f13d5e9-db13-42d7-bf39-006d1ee8bf22",
   "metadata": {},
   "outputs": [],
   "source": []
  },
  {
   "cell_type": "code",
   "execution_count": null,
   "id": "9efb1d4f-a8ec-4e7a-a6d2-9bce2f767849",
   "metadata": {},
   "outputs": [],
   "source": []
  },
  {
   "cell_type": "code",
   "execution_count": null,
   "id": "640a64f6-bda0-403c-8e6a-a157180c10bb",
   "metadata": {},
   "outputs": [],
   "source": []
  },
  {
   "cell_type": "code",
   "execution_count": null,
   "id": "541f2aa5-e1d3-4ca0-b148-073523cb32bb",
   "metadata": {},
   "outputs": [],
   "source": []
  },
  {
   "cell_type": "code",
   "execution_count": null,
   "id": "c77680a7-d143-480d-aad5-263a7dbc15bf",
   "metadata": {},
   "outputs": [],
   "source": []
  }
 ],
 "metadata": {
  "kernelspec": {
   "display_name": "Python 3 (ipykernel)",
   "language": "python",
   "name": "python3"
  },
  "language_info": {
   "codemirror_mode": {
    "name": "ipython",
    "version": 3
   },
   "file_extension": ".py",
   "mimetype": "text/x-python",
   "name": "python",
   "nbconvert_exporter": "python",
   "pygments_lexer": "ipython3",
   "version": "3.11.4"
  }
 },
 "nbformat": 4,
 "nbformat_minor": 5
}
